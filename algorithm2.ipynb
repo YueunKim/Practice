{
 "cells": [
  {
   "cell_type": "markdown",
   "metadata": {},
   "source": [
    "# 정렬되지 않은 이름 검색하기"
   ]
  },
  {
   "cell_type": "code",
   "execution_count": 1,
   "metadata": {},
   "outputs": [],
   "source": [
    "# 입력받은 이름을 기준으로 리스트의 시작부터 끝까지 비교\n",
    "def contain_name1(lst,name):\n",
    "    for x in lst:\n",
    "        if name == x:\n",
    "            return True\n",
    "        \n",
    "    return False"
   ]
  },
  {
   "cell_type": "code",
   "execution_count": 2,
   "metadata": {},
   "outputs": [
    {
     "name": "stdout",
     "output_type": "stream",
     "text": [
      "이름 = 김유은\n",
      "김유은 있슈\n"
     ]
    }
   ],
   "source": [
    "name_list = ['김선호','박민수','신태하','이수호','정지유','김유은']\n",
    "n = input('이름 = ')\n",
    "if contain_name1(name_list,n):\n",
    "    print(n, '있슈')\n",
    "else:\n",
    "    print(n, '없슈')"
   ]
  },
  {
   "cell_type": "markdown",
   "metadata": {},
   "source": [
    "# 정렬된 이름 검색하기"
   ]
  },
  {
   "cell_type": "code",
   "execution_count": 3,
   "metadata": {},
   "outputs": [],
   "source": [
    "# 이름 순으로 정렬되어 있을시, 하나씩 모두 비교하는 것보다 더 빠른 방법\n",
    "def contain_name2(lst,name):\n",
    "    while True:\n",
    "        if len(lst) == 1:\n",
    "            return (name == lst[0]) #같으면 True, 다르면 False\n",
    "        \n",
    "        mid = len(lst)//2 #리스트의 중간 위치를 지정 (2로 나눴을 때의 몫)\n",
    "        \n",
    "        if name == lst[mid]:\n",
    "            return True\n",
    "        elif name < lst[mid]:      #이름이 중간 값보다 빠른 경우\n",
    "            lst = lst[:mid]        #리스트의 앞부분만 남김 \n",
    "        else:                      #이름이 중간 값보다 느린 경우 \n",
    "            lst = lst[mid+1:]      #리스트의 뒷부분만 남김"
   ]
  },
  {
   "cell_type": "code",
   "execution_count": 4,
   "metadata": {},
   "outputs": [
    {
     "name": "stdout",
     "output_type": "stream",
     "text": [
      "이름 = 정주홍\n",
      "정주홍 없슈\n"
     ]
    }
   ],
   "source": [
    "name_list = ['김가빈','김규호','도아희','송아민','이예인','정주호','황서희']\n",
    "n = input('이름 = ')\n",
    "if contain_name2(name_list,n):\n",
    "    print(n, '있슈')\n",
    "else:\n",
    "    print(n, '없슈')"
   ]
  },
  {
   "cell_type": "markdown",
   "metadata": {},
   "source": [
    "# 정렬되지 않은 숫자 검색하기"
   ]
  },
  {
   "cell_type": "code",
   "execution_count": 5,
   "metadata": {},
   "outputs": [],
   "source": [
    "def contain_number1(lst,number):\n",
    "    for x in lst:\n",
    "        if number == x:\n",
    "            return True\n",
    "\n",
    "    return False"
   ]
  },
  {
   "cell_type": "code",
   "execution_count": 6,
   "metadata": {},
   "outputs": [],
   "source": [
    "import random"
   ]
  },
  {
   "cell_type": "code",
   "execution_count": 7,
   "metadata": {},
   "outputs": [
    {
     "name": "stdout",
     "output_type": "stream",
     "text": [
      "[415, 854, 206, 909, 462, 606, 922, 492, 913, 672, 394, 528, 77, 760, 733, 859, 607, 789, 174, 261, 84, 257, 673, 468, 50, 374, 500, 881, 292, 925, 502, 618, 218, 179, 192, 612, 867, 632, 661, 590, 432, 894, 924, 735, 906, 718, 928, 845, 662, 795, 190, 779, 287, 230, 872, 574, 308, 387, 946, 142, 172, 880, 690, 197, 367, 743, 359, 807, 481, 301, 572, 540, 606, 864, 701, 681, 807, 913, 672, 214, 1, 817, 153, 172, 243, 528, 199, 520, 390, 468, 930, 26, 548, 84, 120, 722, 810, 76, 65, 350]\n"
     ]
    }
   ],
   "source": [
    "list1 = []\n",
    "for x in range(100):\n",
    "    list1.append(random.randint(1,1000)) #정렬되지 않은 임의의 숫자 100개\n",
    "print(list1)"
   ]
  },
  {
   "cell_type": "code",
   "execution_count": 8,
   "metadata": {},
   "outputs": [
    {
     "name": "stdout",
     "output_type": "stream",
     "text": [
      "숫자 = 606\n",
      "606 있슈\n"
     ]
    }
   ],
   "source": [
    "n = int(input('숫자 = '))\n",
    "if contain_number1(list1,n):\n",
    "    print(n, '있슈')\n",
    "else:\n",
    "    print(n, '없슈')"
   ]
  },
  {
   "cell_type": "markdown",
   "metadata": {},
   "source": [
    "# 정렬된 숫자 검색하기"
   ]
  },
  {
   "cell_type": "code",
   "execution_count": 9,
   "metadata": {},
   "outputs": [],
   "source": [
    "def contain_number2(lst,number):\n",
    "    while True:\n",
    "        if len(lst) == 1:\n",
    "            return (number == lst[0]) #같으면 True, 다르면 False\n",
    "        \n",
    "        mid = len(lst)//2 #리스트의 중간 위치를 지정 (2로 나눴을 때의 몫)\n",
    "        \n",
    "        if number == lst[mid]:\n",
    "            return True\n",
    "        elif number < lst[mid]:    #이름이 중간 값보다 빠른 경우\n",
    "            lst = lst[:mid]        #리스트의 앞부분만 남김 \n",
    "        else:                      #이름이 중간 값보다 느린 경우 \n",
    "            lst = lst[mid+1:]      #리스트의 뒷부분만 남김"
   ]
  },
  {
   "cell_type": "code",
   "execution_count": 10,
   "metadata": {},
   "outputs": [],
   "source": [
    "list2=[0, 1, 2, 13, 14, 15, 26, 37, 38, 49, 50]"
   ]
  },
  {
   "cell_type": "code",
   "execution_count": 11,
   "metadata": {},
   "outputs": [
    {
     "name": "stdout",
     "output_type": "stream",
     "text": [
      "숫자 = 38\n",
      "38 있슈\n"
     ]
    }
   ],
   "source": [
    "n = int(input('숫자 = '))\n",
    "if contain_name2(list2,n):\n",
    "    print(n, '있슈')\n",
    "else:\n",
    "    print(n, '없슈')"
   ]
  },
  {
   "cell_type": "markdown",
   "metadata": {},
   "source": [
    "# 중복된 숫자 검사하기"
   ]
  },
  {
   "cell_type": "code",
   "execution_count": 12,
   "metadata": {},
   "outputs": [],
   "source": [
    "import random"
   ]
  },
  {
   "cell_type": "code",
   "execution_count": 13,
   "metadata": {},
   "outputs": [
    {
     "name": "stdout",
     "output_type": "stream",
     "text": [
      "[7, 29, 39, 45, 61, 87, 94, 103, 116, 123, 136, 140, 142, 143, 145, 153, 159, 163, 183, 198, 217, 225, 244, 245, 272, 275, 283, 289, 290, 295, 300, 309, 324, 348, 356, 373, 379, 380, 392, 394, 401, 404, 420, 421, 423, 480, 493, 500, 518, 519, 520, 523, 531, 534, 535, 538, 552, 564, 569, 574, 586, 624, 632, 641, 643, 657, 662, 670, 712, 736, 745, 769, 795, 797, 804, 806, 812, 813, 819, 822, 823, 824, 827, 829, 838, 852, 857, 860, 870, 877, 888, 891, 912, 922, 954, 959, 966, 967, 979, 1000]\n"
     ]
    }
   ],
   "source": [
    "list3 = []\n",
    "for x in range(100):\n",
    "    list3.append(random.randint(1,1000))\n",
    "list3.sort() # 오름차순으로 저장\n",
    "print(list3)"
   ]
  },
  {
   "cell_type": "code",
   "execution_count": 14,
   "metadata": {},
   "outputs": [
    {
     "name": "stdout",
     "output_type": "stream",
     "text": [
      "중복 없슈\n"
     ]
    }
   ],
   "source": [
    "def check_duplication(list3):\n",
    "    number = list3[0]\n",
    "    \n",
    "    mid = len(list3)//2 #리스트의 중간 위치를 지정 (2로 나눴을 때의 몫)\n",
    "        \n",
    "    if number == list3[mid]:\n",
    "        return True\n",
    "    elif number < list3[mid]:    #이름이 중간 값보다 빠른 경우\n",
    "        list3 = list3[:mid]        #리스트의 앞부분만 남김 \n",
    "    else:                      #이름이 중간 값보다 느린 경우 \n",
    "        list3 = list3[mid+1:]      #리스트의 뒷부분만 남김\n",
    "    \n",
    "if check_duplication(list3):\n",
    "    print('중복 있슈')\n",
    "else:\n",
    "    print('중복 없슈')\n"
   ]
  }
 ],
 "metadata": {
  "kernelspec": {
   "display_name": "Python 3",
   "language": "python",
   "name": "python3"
  },
  "language_info": {
   "codemirror_mode": {
    "name": "ipython",
    "version": 3
   },
   "file_extension": ".py",
   "mimetype": "text/x-python",
   "name": "python",
   "nbconvert_exporter": "python",
   "pygments_lexer": "ipython3",
   "version": "3.7.6"
  }
 },
 "nbformat": 4,
 "nbformat_minor": 4
}
