{
 "cells": [
  {
   "cell_type": "markdown",
   "metadata": {},
   "source": [
    "# 최댓값 찾기"
   ]
  },
  {
   "cell_type": "code",
   "execution_count": 1,
   "metadata": {},
   "outputs": [],
   "source": [
    "def find_max(l):\n",
    "    max_idx = 0\n",
    "    for x in range (1,len(l)):\n",
    "        if l[x] > l[max_idx]:\n",
    "            max_idx = x\n",
    "    return max_idx"
   ]
  },
  {
   "cell_type": "code",
   "execution_count": 2,
   "metadata": {},
   "outputs": [],
   "source": [
    "score = [70 , 60 , 55 , 80 , 99 , 89 , 77 , 91 , 69 , 81]\n",
    "name = ['A','B','C','D','E','F','G']"
   ]
  },
  {
   "cell_type": "code",
   "execution_count": 3,
   "metadata": {},
   "outputs": [],
   "source": [
    "good_grade = find_max(score)"
   ]
  },
  {
   "cell_type": "code",
   "execution_count": 4,
   "metadata": {},
   "outputs": [
    {
     "name": "stdout",
     "output_type": "stream",
     "text": [
      "가장 점수가 높은 반은 E 입니다\n"
     ]
    }
   ],
   "source": [
    "print('가장 점수가 높은 반은', name[good_grade], '입니다')"
   ]
  },
  {
   "cell_type": "markdown",
   "metadata": {},
   "source": [
    "## list1, list2의 최댓값 최솟값 찾기"
   ]
  },
  {
   "cell_type": "code",
   "execution_count": 5,
   "metadata": {},
   "outputs": [],
   "source": [
    "import random "
   ]
  },
  {
   "cell_type": "code",
   "execution_count": 6,
   "metadata": {},
   "outputs": [],
   "source": [
    "list1 = [100, 20, 15, 80, 5, 25, 60, 75, 1, 30] \n",
    "list2 = [] \n",
    "for x in range(100): \n",
    "    list2.append(random.randint(1, 10000))"
   ]
  },
  {
   "cell_type": "code",
   "execution_count": 7,
   "metadata": {},
   "outputs": [
    {
     "name": "stdout",
     "output_type": "stream",
     "text": [
      "list1의 최댓값 =  100\n",
      "list2의 최댓값 =  9938\n"
     ]
    }
   ],
   "source": [
    "def find_max(l):\n",
    "    max_idx = 0\n",
    "    for x in range (1,len(l)):\n",
    "        if l[x] > l[max_idx]: \n",
    "            max_idx = x\n",
    "    return max_idx\n",
    "\n",
    "list1_max = find_max(list1)\n",
    "print('list1의 최댓값 = ', list1[list1_max])\n",
    "\n",
    "list2_max = find_max(list2)\n",
    "print('list2의 최댓값 = ', list2[list2_max])"
   ]
  },
  {
   "cell_type": "code",
   "execution_count": 8,
   "metadata": {},
   "outputs": [
    {
     "name": "stdout",
     "output_type": "stream",
     "text": [
      "list1의 최솟값 =  1\n",
      "list2의 최솟값 =  51\n"
     ]
    }
   ],
   "source": [
    "def find_min(l):\n",
    "    min_idx = 0\n",
    "    for x in range (1,len(l)):\n",
    "        if l[x] < l[min_idx]: \n",
    "            min_idx = x\n",
    "    return min_idx\n",
    "\n",
    "list1_min = find_min(list1)\n",
    "print('list1의 최솟값 = ', list1[list1_min])\n",
    "\n",
    "list2_min = find_min(list2)\n",
    "print('list2의 최솟값 = ', list2[list2_min])"
   ]
  },
  {
   "cell_type": "markdown",
   "metadata": {},
   "source": [
    "## 올림픽 점수 출력하기"
   ]
  },
  {
   "cell_type": "markdown",
   "metadata": {},
   "source": [
    "#### 올림픽에서 체조 종목의 점수는 6명의 심판이 10점 만점기준으로 실수가 나올 때마다 일정 수치를 감점해서 이루어진다. 모든 심판의 점수가 나오면, 공정성을 위해서 최고 점수와 최저 점수를 제외한 4명의 점수의 평균이 최종 점수가 된다. 프로그램을 완성해보자."
   ]
  },
  {
   "cell_type": "code",
   "execution_count": 9,
   "metadata": {},
   "outputs": [
    {
     "name": "stdout",
     "output_type": "stream",
     "text": [
      "점수를 입력해주세요 70\n",
      "점수를 입력해주세요 78\n",
      "점수를 입력해주세요 80\n",
      "점수를 입력해주세요 84\n",
      "점수를 입력해주세요 82\n",
      "점수를 입력해주세요 88\n",
      "최고, 최저 점수를 제외한 평균 점수 =  81.0\n"
     ]
    }
   ],
   "source": [
    "score_list = [] \n",
    "\n",
    "for x in range(6): \n",
    "    score = float(input(\"점수를 입력해주세요 \"))\n",
    "    score_list.append(score)\n",
    "    \n",
    "max = score_list[find_max(score_list)]\n",
    "min = score_list[find_min(score_list)]\n",
    "\n",
    "score_list.remove(max)\n",
    "score_list.remove(min)\n",
    "\n",
    "avg = sum(score_list)/len(score_list)\n",
    "print('최고, 최저 점수를 제외한 평균 점수 = ',avg)"
   ]
  }
 ],
 "metadata": {
  "kernelspec": {
   "display_name": "Python 3",
   "language": "python",
   "name": "python3"
  },
  "language_info": {
   "codemirror_mode": {
    "name": "ipython",
    "version": 3
   },
   "file_extension": ".py",
   "mimetype": "text/x-python",
   "name": "python",
   "nbconvert_exporter": "python",
   "pygments_lexer": "ipython3",
   "version": "3.7.6"
  }
 },
 "nbformat": 4,
 "nbformat_minor": 4
}
