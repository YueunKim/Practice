{
 "cells": [
  {
   "cell_type": "markdown",
   "metadata": {},
   "source": [
    "# 선택정렬"
   ]
  },
  {
   "cell_type": "code",
   "execution_count": 2,
   "metadata": {},
   "outputs": [],
   "source": [
    "def selection_sort(lst): \n",
    "    length = len(lst) \n",
    "    \n",
    "    # 작은  순서대로  정렬을  진행하는  첫번째  반복문 \n",
    "    for i in range(length-1):  # 마지막  요소는  자동으로  정렬! \n",
    "        index_min = i  # 사이클마다  최솟값을  저장할  변수 \n",
    "        \n",
    "        # 정렬된  부분을  제외하고, 최솟값을  찾는  두번째  반복문 \n",
    "        for j in range(i+1, length): \n",
    "            \n",
    "            # 현재까지의  최솟값  보다  작은  숫자를  만난  경우  교체 \n",
    "            if lst[index_min] > lst[j]: \n",
    "                index_min = j \n",
    "        lst[i], lst[index_min] = lst[index_min], lst[i] \n",
    "    return lst"
   ]
  },
  {
   "cell_type": "code",
   "execution_count": 3,
   "metadata": {},
   "outputs": [
    {
     "data": {
      "text/plain": [
       "[1, 2, 3, 4, 7]"
      ]
     },
     "execution_count": 3,
     "metadata": {},
     "output_type": "execute_result"
    }
   ],
   "source": [
    "list = [3,4,2,7,1]\n",
    "selection_sort(list)"
   ]
  }
 ],
 "metadata": {
  "kernelspec": {
   "display_name": "Python 3",
   "language": "python",
   "name": "python3"
  },
  "language_info": {
   "codemirror_mode": {
    "name": "ipython",
    "version": 3
   },
   "file_extension": ".py",
   "mimetype": "text/x-python",
   "name": "python",
   "nbconvert_exporter": "python",
   "pygments_lexer": "ipython3",
   "version": "3.7.6"
  }
 },
 "nbformat": 4,
 "nbformat_minor": 4
}
