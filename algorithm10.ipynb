{
 "cells": [
  {
   "cell_type": "markdown",
   "metadata": {},
   "source": [
    "# 팰린드롬 "
   ]
  },
  {
   "cell_type": "code",
   "execution_count": 1,
   "metadata": {},
   "outputs": [],
   "source": [
    "# 수도코드\n",
    "\n",
    "# def is_palindrome(s): \n",
    "#     stack = [] \n",
    "#     queue = [] \n",
    "#     입력된 문자열 s를 한글자씩스택과 큐에넣는다\n",
    "    \n",
    "#     while (스택과 큐가 비어 있지 않은 동안): \n",
    "#         if 스택에서 팝을 한글자 != 큐에서 디큐를 한글자: \n",
    "#             return False \n",
    "#     return True"
   ]
  },
  {
   "cell_type": "code",
   "execution_count": 2,
   "metadata": {},
   "outputs": [],
   "source": [
    "def is_palindrome(s): \n",
    "    stack = [] \n",
    "    queue = [] \n",
    "    # 스택과 큐에 입력 받은 문자를 한 글자씩 넣는다 \n",
    "    for x in range(len(s)): \n",
    "        stack.append(s[x]) \n",
    "        queue.append(s[x]) \n",
    "    # 스택과  큐가  빌  때까지  꺼낸다 \n",
    "    while (stack!=[] and queue!=[]): \n",
    "        # 만약 스택에서 팝을 한 글자와 \n",
    "        # 큐에서 디큐를 한 글자가 다른 경우 False를  반환\n",
    "        if (stack.pop() != queue.pop(0)): \n",
    "            return False \n",
    "    return True"
   ]
  },
  {
   "cell_type": "code",
   "execution_count": 3,
   "metadata": {},
   "outputs": [
    {
     "name": "stdout",
     "output_type": "stream",
     "text": [
      "단어 입력level\n",
      "it's palindrome!\n"
     ]
    }
   ],
   "source": [
    "word = input(\"단어 입력\") \n",
    "p = is_palindrome(word) \n",
    "if p: \n",
    "    print(\"it's palindrome!\") \n",
    "else: \n",
    "    print(\"no.. it's not palindrome..\")"
   ]
  }
 ],
 "metadata": {
  "kernelspec": {
   "display_name": "Python 3",
   "language": "python",
   "name": "python3"
  },
  "language_info": {
   "codemirror_mode": {
    "name": "ipython",
    "version": 3
   },
   "file_extension": ".py",
   "mimetype": "text/x-python",
   "name": "python",
   "nbconvert_exporter": "python",
   "pygments_lexer": "ipython3",
   "version": "3.7.6"
  }
 },
 "nbformat": 4,
 "nbformat_minor": 4
}
