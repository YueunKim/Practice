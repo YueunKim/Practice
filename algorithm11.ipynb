{
 "cells": [
  {
   "cell_type": "markdown",
   "metadata": {},
   "source": [
    "# 하노이의 탑 옮기기"
   ]
  },
  {
   "cell_type": "code",
   "execution_count": 1,
   "metadata": {},
   "outputs": [],
   "source": [
    "def move(s, t): \n",
    "    print(s, \"에서\", t, \"로 이동\") \n",
    "def hanoi(n, s, b, t): \n",
    "    # n:원판 개수, s:시작 기둥, b:남은 기둥, t:목표 기둥 \n",
    "    if (n==1): \n",
    "        move(s, t) \n",
    "    else: \n",
    "        hanoi(n-1, s, t, b) \n",
    "        move(s, t) \n",
    "        hanoi(n-1, b, s, t) "
   ]
  },
  {
   "cell_type": "code",
   "execution_count": 2,
   "metadata": {},
   "outputs": [
    {
     "name": "stdout",
     "output_type": "stream",
     "text": [
      "몇 개의 원판? 4\n",
      "1 에서 2 로 이동\n",
      "1 에서 3 로 이동\n",
      "2 에서 3 로 이동\n",
      "1 에서 2 로 이동\n",
      "3 에서 1 로 이동\n",
      "3 에서 2 로 이동\n",
      "1 에서 2 로 이동\n",
      "1 에서 3 로 이동\n",
      "2 에서 3 로 이동\n",
      "2 에서 1 로 이동\n",
      "3 에서 1 로 이동\n",
      "2 에서 3 로 이동\n",
      "1 에서 2 로 이동\n",
      "1 에서 3 로 이동\n",
      "2 에서 3 로 이동\n"
     ]
    }
   ],
   "source": [
    "n = int(input(\"몇 개의 원판? \")) \n",
    "hanoi(n, 1, 2, 3)"
   ]
  }
 ],
 "metadata": {
  "kernelspec": {
   "display_name": "Python 3",
   "language": "python",
   "name": "python3"
  },
  "language_info": {
   "codemirror_mode": {
    "name": "ipython",
    "version": 3
   },
   "file_extension": ".py",
   "mimetype": "text/x-python",
   "name": "python",
   "nbconvert_exporter": "python",
   "pygments_lexer": "ipython3",
   "version": "3.7.6"
  }
 },
 "nbformat": 4,
 "nbformat_minor": 4
}
