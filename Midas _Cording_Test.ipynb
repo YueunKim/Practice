{
 "cells": [
  {
   "cell_type": "code",
   "execution_count": 1,
   "metadata": {},
   "outputs": [
    {
     "name": "stdout",
     "output_type": "stream",
     "text": [
      "[1, 3, 2]\n",
      "[1, 3, 2]\n",
      "[1, 3, 2]\n",
      "[]\n",
      "3\n"
     ]
    }
   ],
   "source": [
    "# 1이 들어가있는 리스트를 찾고 리스트안의 숫자합이 제일 작은 값인 리스트를 삭제 후 +1\n",
    "# T = [[1,3],[3,4],[2,4],[2,4],[2,3],[1,2]]\n",
    "# T = [[1,2],[1,10],[2,3]]\n",
    "T = [[1, 3], [1, 3], [1, 3]]\n",
    "\n",
    "K = 10\n",
    "answer = 0   \n",
    "\n",
    "for i in T:\n",
    "    for j in range(i[0],i[1]+1):\n",
    "        if j not in i:\n",
    "            i.append(j)\n",
    "            i=list(set(i))\n",
    "\n",
    "for num in range(1,K+1):\n",
    "\n",
    "    a = []\n",
    "    sum_a = []\n",
    "    \n",
    "    for i in T:\n",
    "        if num in i:\n",
    "            a.append(i)\n",
    "            sum_a.append(sum(i))\n",
    "\n",
    "    if len(sum_a) != 0:\n",
    "        delete = a[sum_a.index(min(sum_a))]\n",
    "        print(delete)\n",
    "        T.remove(delete)\n",
    "        answer += 1\n",
    "\n",
    "print(T)\n",
    "print(answer)"
   ]
  },
  {
   "cell_type": "code",
   "execution_count": 2,
   "metadata": {},
   "outputs": [],
   "source": [
    "def solution(N,K,T):\n",
    "    answer = 0\n",
    "    \n",
    "    #각 원소 [a,b]에서 a와 b사이의 모든 자연수 추가\n",
    "    for i in T:\n",
    "        for j in range(i[0],i[1]+1):\n",
    "            if j not in i:\n",
    "                i.append(j)\n",
    "                i=list(set(i))\n",
    "    \n",
    "    #1부터 K까지 num에 입력\n",
    "    for num in range(1,K+1):\n",
    "        a = []\n",
    "        sum_a = []\n",
    "\n",
    "        #num이 있는 요소만 리스트 a에 추가, a요소들의 합을 sum_a에 추가\n",
    "        for i in T:\n",
    "            if num in i:\n",
    "                a.append(i)\n",
    "                sum_a.append(sum(i))\n",
    "        \n",
    "        #sum_a가 빈 리스트가 아니면 합이 최솟값인 요소를 T에서 지우고 answer+1\n",
    "        if len(sum_a) != 0:\n",
    "            delete = a[sum_a.index(min(sum_a))]\n",
    "            T.remove(delete)\n",
    "            answer += 1\n",
    "        \n",
    "    return answer"
   ]
  },
  {
   "cell_type": "code",
   "execution_count": null,
   "metadata": {},
   "outputs": [],
   "source": []
  }
 ],
 "metadata": {
  "kernelspec": {
   "display_name": "Python 3",
   "language": "python",
   "name": "python3"
  },
  "language_info": {
   "codemirror_mode": {
    "name": "ipython",
    "version": 3
   },
   "file_extension": ".py",
   "mimetype": "text/x-python",
   "name": "python",
   "nbconvert_exporter": "python",
   "pygments_lexer": "ipython3",
   "version": "3.8.3"
  }
 },
 "nbformat": 4,
 "nbformat_minor": 4
}
