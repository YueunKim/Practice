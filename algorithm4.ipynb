{
 "cells": [
  {
   "cell_type": "markdown",
   "metadata": {},
   "source": [
    "# 최대공약수 찾기"
   ]
  },
  {
   "cell_type": "code",
   "execution_count": 1,
   "metadata": {},
   "outputs": [],
   "source": [
    "# algorithm 1\n",
    "def gcd_1(n1, n2): \n",
    "    if n1 < n2:\n",
    "        n1, n2 = n2, n1 # n1이 큰숫자, n2가 작은숫자\n",
    "    c = n2 # 최대공약수가 될 변수에 작은 수 저장\n",
    "    \n",
    "    while (c > 0):\n",
    "        a = n1 % c\n",
    "        b = n2 % c\n",
    "        if a == 0 and b == 0:\n",
    "            return c # 두 나머지가 모두 0이면 c반환\n",
    "        c = c-1 # 그렇지 않으면 c를 1 감소한 후 반복"
   ]
  },
  {
   "cell_type": "code",
   "execution_count": 2,
   "metadata": {},
   "outputs": [],
   "source": [
    "num1 = 90\n",
    "num2 = 32\n",
    "gcd = gcd_1(num1, num2) \n",
    "print(\"최대공약수 :\", gcd)"
   ]
  },
  {
   "cell_type": "code",
   "execution_count": 3,
   "metadata": {},
   "outputs": [],
   "source": [
    "# algorithm 2 (유클리드 호제법)\n",
    "def gcd_2(n1, n2):\n",
    "    if n1 < n2:\n",
    "        n1, n2 = n2, n1\n",
    "    c = n1 % n2 #n1을 n2로 나눈 나머지 c\n",
    "    \n",
    "    if c == 0:\n",
    "        return n2 # 나머지가 0인 경우 최대공약수는 n2\n",
    "    else:\n",
    "        return gcd_2(n2,c) # 그렇지 않으면 n2와 c로 다시 진행"
   ]
  },
  {
   "cell_type": "code",
   "execution_count": 4,
   "metadata": {},
   "outputs": [
    {
     "name": "stdout",
     "output_type": "stream",
     "text": [
      "최대공약수 : 123456789\n"
     ]
    }
   ],
   "source": [
    "num1 = 9506172753 \n",
    "num2 = 3209876514\n",
    "gcd = gcd_2(num1, num2) \n",
    "print(\"최대공약수 :\", gcd)"
   ]
  },
  {
   "cell_type": "markdown",
   "metadata": {},
   "source": [
    "### 첫번째  방법으로  숫자  세  개의  최대공약수를  구하는  함수 생성"
   ]
  },
  {
   "cell_type": "code",
   "execution_count": 5,
   "metadata": {},
   "outputs": [],
   "source": [
    "def gcd_3(n1, n2, n3): \n",
    "    list = []\n",
    "    list.append(n1)\n",
    "    list.append(n2)\n",
    "    list.append(n3)\n",
    "    list.sort()\n",
    "    n3 = list[0] # 제일 작은 수\n",
    "    n2 = list[1]\n",
    "    n1 = list[2] # 제일 큰 수\n",
    "\n",
    "    d = n3 # 최대공약수가 될 변수에 작은 수 저장\n",
    "    \n",
    "    while (d > 0):\n",
    "        a = n1 % d\n",
    "        b = n2 % d\n",
    "        c = n3 % d\n",
    "        if a == 0 and b == 0 and c == 0:\n",
    "            return d # 두 나머지가 모두 0이면 c반환\n",
    "        d = d-1 # 그렇지 않으면 c를 1 감소한 후 반복"
   ]
  },
  {
   "cell_type": "code",
   "execution_count": 6,
   "metadata": {},
   "outputs": [
    {
     "name": "stdout",
     "output_type": "stream",
     "text": [
      "최대공약수 : 9\n"
     ]
    }
   ],
   "source": [
    "num1 = 99\n",
    "num2 = 81\n",
    "num3 = 27\n",
    "gcd = gcd_3(num1, num2, num3) \n",
    "print(\"최대공약수 :\", gcd)"
   ]
  },
  {
   "cell_type": "markdown",
   "metadata": {},
   "source": [
    "### 첫번째 함수를 변형하여 모든 공약수를 출력하는 함수 생성"
   ]
  },
  {
   "cell_type": "code",
   "execution_count": 7,
   "metadata": {},
   "outputs": [],
   "source": [
    "def gcd_4(n1, n2): \n",
    "    if n1 < n2:\n",
    "        n1, n2 = n2, n1 \n",
    "    c = n2 \n",
    "    list = []\n",
    "    \n",
    "    while (c > 0):\n",
    "        a = n1 % c\n",
    "        b = n2 % c\n",
    "        if a == 0 and b == 0:\n",
    "            list.append(c)\n",
    "        c = c-1 \n",
    "        \n",
    "    for i in range(1,c):\n",
    "        if c % i == 0:\n",
    "            list.append(i) \n",
    "    \n",
    "    return list"
   ]
  },
  {
   "cell_type": "code",
   "execution_count": 8,
   "metadata": {},
   "outputs": [
    {
     "name": "stdout",
     "output_type": "stream",
     "text": [
      "두 수의 공약수 : [10, 5, 2, 1]\n"
     ]
    }
   ],
   "source": [
    "num1 = 20\n",
    "num2 = 30\n",
    "gcd_list = gcd_4(num1, num2) \n",
    "print(\"두 수의 공약수 :\", gcd_list)"
   ]
  },
  {
   "cell_type": "markdown",
   "metadata": {},
   "source": [
    "### 재귀함수아닌 반복문을 사용한 유클리드 호제법"
   ]
  },
  {
   "cell_type": "code",
   "execution_count": 9,
   "metadata": {},
   "outputs": [],
   "source": [
    "def gcd_5(n1, n2):\n",
    "    c = 0\n",
    "    while True:\n",
    "        if n1 < n2:\n",
    "            n1, n2 = n2, n1\n",
    "        c = n1 % n2 \n",
    "        \n",
    "        if c != 0:\n",
    "            n1, n2 = n2, c  \n",
    "        else:\n",
    "            return n2    "
   ]
  },
  {
   "cell_type": "code",
   "execution_count": 10,
   "metadata": {},
   "outputs": [
    {
     "name": "stdout",
     "output_type": "stream",
     "text": [
      "최대공약수 : 123456789\n"
     ]
    }
   ],
   "source": [
    "num1 = 9506172753 \n",
    "num2 = 3209876514\n",
    "gcd = gcd_5(num1, num2) \n",
    "print(\"최대공약수 :\", gcd)"
   ]
  }
 ],
 "metadata": {
  "kernelspec": {
   "display_name": "Python 3",
   "language": "python",
   "name": "python3"
  },
  "language_info": {
   "codemirror_mode": {
    "name": "ipython",
    "version": 3
   },
   "file_extension": ".py",
   "mimetype": "text/x-python",
   "name": "python",
   "nbconvert_exporter": "python",
   "pygments_lexer": "ipython3",
   "version": "3.7.6"
  }
 },
 "nbformat": 4,
 "nbformat_minor": 4
}
