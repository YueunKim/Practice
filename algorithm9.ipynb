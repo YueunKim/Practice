{
 "cells": [
  {
   "cell_type": "markdown",
   "metadata": {},
   "source": [
    "# 퀵 정렬"
   ]
  },
  {
   "cell_type": "code",
   "execution_count": 1,
   "metadata": {},
   "outputs": [],
   "source": [
    "# 파티션 함수\n",
    "\n",
    "def partition(lst, start, end): \n",
    "    pivot = lst[start]   # 리스트의 맨 앞 숫자 피봇으로 정함 \n",
    "    idx1 = start + 1    # 피봇 다음 위치부터 비교 시작 \n",
    "    idx2 = end # 피봇 보다 큰 숫자를 넣을 위치 \n",
    "    \n",
    "    # idx1이 idx2보다 커지면 파티션 종료 \n",
    "    while (idx1 <= idx2): \n",
    "        if pivot < lst[idx1]:  # 비교위치의 숫자가 더 큰 경우 \n",
    "            # idx2 위치의 숫자와 자리 변경 \n",
    "            lst[idx1], lst[idx2] = lst[idx2], lst[idx1] \n",
    "            idx2 -= 1  # 큰 숫자를 넣을 위치를 앞으로 한 칸 당김 \n",
    "        else: \n",
    "            idx1 += 1  # 작은 숫자는 그대로 두고 다음 숫자 비교 \n",
    "    \n",
    "    # 피봇을 피봇 보다 큰 숫자 바로 앞의 자리로 옮김 \n",
    "    lst[start], lst[idx2] = lst[idx2], lst[start] \n",
    "    return idx2 # 최종 피봇의 위치 반환"
   ]
  },
  {
   "cell_type": "code",
   "execution_count": 2,
   "metadata": {},
   "outputs": [],
   "source": [
    "# 퀵 정렬 함수\n",
    "\n",
    "def quick_sort(l, start, end): \n",
    "    # 퀵 정렬 함수 실행 : quick_sort(l, 0, len(l)) \n",
    "    \n",
    "    # start 보다  end가 클 때만 실행 \n",
    "    if start < end: \n",
    "        pivot = partition(l, start, end) \n",
    "        \n",
    "        # 피봇보다  작은부분 재귀호출 \n",
    "        quick_sort(l, start, pivot-1) \n",
    "        \n",
    "        # 피봇보다 큰부분 재귀호출 \n",
    "        quick_sort(l, pivot+1, end) \n",
    "    return l "
   ]
  },
  {
   "cell_type": "code",
   "execution_count": 3,
   "metadata": {},
   "outputs": [
    {
     "name": "stdout",
     "output_type": "stream",
     "text": [
      "[1, 2, 3, 4, 5, 6, 7, 8, 9, 10]\n"
     ]
    }
   ],
   "source": [
    "test_lst = [10, 9, 4, 3, 1, 2, 6, 8, 5, 7] \n",
    "print(quick_sort(test_lst,0,len(test_lst)-1))"
   ]
  }
 ],
 "metadata": {
  "kernelspec": {
   "display_name": "Python 3",
   "language": "python",
   "name": "python3"
  },
  "language_info": {
   "codemirror_mode": {
    "name": "ipython",
    "version": 3
   },
   "file_extension": ".py",
   "mimetype": "text/x-python",
   "name": "python",
   "nbconvert_exporter": "python",
   "pygments_lexer": "ipython3",
   "version": "3.7.6"
  }
 },
 "nbformat": 4,
 "nbformat_minor": 4
}
