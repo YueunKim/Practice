{
 "cells": [
  {
   "cell_type": "markdown",
   "metadata": {},
   "source": [
    "# 합병정렬"
   ]
  },
  {
   "cell_type": "code",
   "execution_count": 1,
   "metadata": {},
   "outputs": [],
   "source": [
    "def merge(lst1, lst2): \n",
    "    l = []   # 결과 저장할 리스트 \n",
    "    idx1 = 0   # lst1의 위치를 가리킬 변수 \n",
    "    idx2 = 0   # lst2의 위치를 가리킬 변수 \n",
    "    \n",
    "    # 두 리스트 중 하나라도 끝나면 종료되는 반복문 \n",
    "    while (len(lst1) > idx1) and (len(lst2) > idx2): \n",
    "        # lst1의 값이 더 작은 경우 \n",
    "        if lst1[idx1] <= lst2[idx2]:  \n",
    "            l.append(lst1[idx1]) \n",
    "            idx1 += 1 \n",
    "        else: # lst2의 값이 더 작은 경우 \n",
    "            l.append(lst2[idx2]) \n",
    "            idx2 += 1 \n",
    "            \n",
    "    # 남은 숫자들을 결과리스트 뒤에 추가\n",
    "    l = l + lst1[idx1:] + lst2[idx2:] \n",
    "    return l"
   ]
  },
  {
   "cell_type": "code",
   "execution_count": 2,
   "metadata": {},
   "outputs": [],
   "source": [
    "def merge_sort(l): \n",
    "    \n",
    "    # 리스트의 길이가 1보다 작으면 그대로 반환 \n",
    "    if len(l) <= 1: \n",
    "        return l \n",
    "    else: \n",
    "        mid = len(l) // 2 \n",
    "        left = merge_sort(l[:mid]) # 리스트의 왼쪽 재귀 호출 \n",
    "        right = merge_sort(l[mid:]) # 리스트의 오른쪽 재귀 호출 \n",
    "        l = merge(left, right) # 왼쪽 오른쪽 합병 \n",
    "    return l "
   ]
  },
  {
   "cell_type": "code",
   "execution_count": 3,
   "metadata": {},
   "outputs": [
    {
     "name": "stdout",
     "output_type": "stream",
     "text": [
      "[1, 2, 3, 4, 5, 6, 7, 9, 10]\n"
     ]
    }
   ],
   "source": [
    "test_lst = [10, 9, 4, 3, 1, 2, 6, 5, 7] \n",
    "print(merge_sort(test_lst))"
   ]
  }
 ],
 "metadata": {
  "kernelspec": {
   "display_name": "Python 3",
   "language": "python",
   "name": "python3"
  },
  "language_info": {
   "codemirror_mode": {
    "name": "ipython",
    "version": 3
   },
   "file_extension": ".py",
   "mimetype": "text/x-python",
   "name": "python",
   "nbconvert_exporter": "python",
   "pygments_lexer": "ipython3",
   "version": "3.7.6"
  }
 },
 "nbformat": 4,
 "nbformat_minor": 4
}
